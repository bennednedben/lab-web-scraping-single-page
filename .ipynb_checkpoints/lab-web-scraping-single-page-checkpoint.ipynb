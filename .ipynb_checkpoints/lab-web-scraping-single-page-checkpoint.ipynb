{
 "cells": [
  {
   "cell_type": "code",
   "execution_count": null,
   "id": "265a30a0",
   "metadata": {},
   "outputs": [],
   "source": [
    "from bs4 import BeautifulSoup\n",
    "import requests\n",
    "import pandas as pd"
   ]
  },
  {
   "cell_type": "code",
   "execution_count": null,
   "id": "dab25d03",
   "metadata": {},
   "outputs": [],
   "source": [
    "# 2. find url and store it in a variable\n",
    "url = \"https://www.popvortex.com/music/charts/top-100-songs.php\""
   ]
  },
  {
   "cell_type": "code",
   "execution_count": null,
   "id": "ce36b814",
   "metadata": {},
   "outputs": [],
   "source": [
    "# 3. download html with a get request\n",
    "response = requests.get(url)\n",
    "response.status_code # 200 status code means OK!"
   ]
  },
  {
   "cell_type": "code",
   "execution_count": null,
   "id": "113c0b26",
   "metadata": {},
   "outputs": [],
   "source": [
    "# 4.1. parse html (create the 'soup')\n",
    "soup = BeautifulSoup(response.content, \"html.parser\")"
   ]
  },
  {
   "cell_type": "code",
   "execution_count": null,
   "id": "1c36fca1",
   "metadata": {},
   "outputs": [],
   "source": [
    "# song name\n",
    "soup.select(\"#chart-position-1 > div.chart-content.col-xs-12.col-sm-8 > p > cite\")\n",
    "soup.select(\"p > cite\") # all elements containing song titles\n",
    "soup.select(\"p > cite\")[0].get_text()"
   ]
  },
  {
   "cell_type": "code",
   "execution_count": null,
   "id": "d31b6024",
   "metadata": {},
   "outputs": [],
   "source": [
    "# artist\n",
    "soup.select(\"#chart-position-1 > div.chart-content.col-xs-12.col-sm-8 > p > em\")\n",
    "soup.select(\"p > em\")\n",
    "soup.select(\"p > em\")[0].get_text()"
   ]
  },
  {
   "cell_type": "code",
   "execution_count": null,
   "id": "6c911465",
   "metadata": {},
   "outputs": [],
   "source": [
    "# Release Date\n",
    "soup.select(\"#chart-position-1 > div.chart-content.col-xs-12.col-sm-8 > ul > li:nth-child(2)\")\n",
    "soup.select(\"div.chart-content.col-xs-12.col-sm-8 > ul > li:nth-child(2)\")\n",
    "soup.select(\"div.chart-content.col-xs-12.col-sm-8 > ul > li:nth-child(2)\")[0].get_text()"
   ]
  },
  {
   "cell_type": "code",
   "execution_count": null,
   "id": "1b618050",
   "metadata": {},
   "outputs": [],
   "source": [
    "# genre\n",
    "soup.select(\"#chart-position-2 > div.chart-content.col-xs-12.col-sm-8 > ul > li:nth-child(1) > a\")\n",
    "soup.select(\"div.chart-content.col-xs-12.col-sm-8 > ul > li:nth-child(1) > a\") # all elements containing song titles\n",
    "soup.select(\"div.chart-content.col-xs-12.col-sm-8 > ul > li:nth-child(1) > a\")[0].get_text()"
   ]
  },
  {
   "cell_type": "code",
   "execution_count": null,
   "id": "9c70866a",
   "metadata": {},
   "outputs": [],
   "source": [
    "#initialize empty lists\n",
    "song_list = []\n",
    "artist_list = []\n",
    "release_date_list = []\n",
    "genre_list = []\n",
    "\n",
    "song = soup.select(\"p > cite\")\n",
    "num_iter = len(song)\n",
    "print(num_iter)\n",
    "\n",
    "release_date = soup.select(\"div.chart-content.col-xs-12.col-sm-8 > ul > li:nth-child(2)\")\n",
    "artist = soup.select(\"p > em\")\n",
    "genre = soup.select(\"div.chart-content.col-xs-12.col-sm-8 > ul > li:nth-child(1) > a\")\n",
    "for i in range(num_iter):\n",
    "    song_list.append(song[i].get_text())\n",
    "    artist_list.append(artist[i].get_text())\n",
    "    #release_date_list.append(release_date[i])\n",
    "    #genre_list.append(genre[i].get_text())\n",
    "\n",
    "# print(song_list)\n",
    "# print(artist_list)\n",
    "# print(release_date_list)\n",
    "# print(genre_list)"
   ]
  },
  {
   "cell_type": "code",
   "execution_count": null,
   "id": "eeb28751",
   "metadata": {},
   "outputs": [],
   "source": [
    "genre = soup.select(\"div.chart-content.col-xs-12.col-sm-8 > ul > li:nth-child(1) > a\")\n",
    "genre"
   ]
  },
  {
   "cell_type": "code",
   "execution_count": null,
   "id": "45f30eca",
   "metadata": {},
   "outputs": [],
   "source": [
    "# each list becomes a column\n",
    "songs = pd.DataFrame({\"song\":song_list,\n",
    "                       \"artist\":artist_list\n",
    "                       #\"release_date_list\":release_date,\n",
    "                       #\"genre_list\":genre\n",
    "                      })"
   ]
  },
  {
   "cell_type": "code",
   "execution_count": null,
   "id": "6d20f3b2",
   "metadata": {},
   "outputs": [],
   "source": [
    "songs.head()"
   ]
  },
  {
   "cell_type": "code",
   "execution_count": null,
   "id": "a5636334",
   "metadata": {},
   "outputs": [],
   "source": [
    "songs.to_csv('songs_2023.csv',index=False)"
   ]
  },
  {
   "cell_type": "code",
   "execution_count": null,
   "id": "06c96d3d",
   "metadata": {},
   "outputs": [],
   "source": []
  },
  {
   "cell_type": "markdown",
   "id": "44a6a53b",
   "metadata": {},
   "source": [
    "# Part 2"
   ]
  },
  {
   "cell_type": "code",
   "execution_count": 1,
   "id": "10957b8e",
   "metadata": {},
   "outputs": [
    {
     "data": {
      "text/html": [
       "<div>\n",
       "<style scoped>\n",
       "    .dataframe tbody tr th:only-of-type {\n",
       "        vertical-align: middle;\n",
       "    }\n",
       "\n",
       "    .dataframe tbody tr th {\n",
       "        vertical-align: top;\n",
       "    }\n",
       "\n",
       "    .dataframe thead th {\n",
       "        text-align: right;\n",
       "    }\n",
       "</style>\n",
       "<table border=\"1\" class=\"dataframe\">\n",
       "  <thead>\n",
       "    <tr style=\"text-align: right;\">\n",
       "      <th></th>\n",
       "      <th>song</th>\n",
       "      <th>artist</th>\n",
       "    </tr>\n",
       "  </thead>\n",
       "  <tbody>\n",
       "    <tr>\n",
       "      <th>0</th>\n",
       "      <td>Last Night</td>\n",
       "      <td>Morgan Wallen</td>\n",
       "    </tr>\n",
       "    <tr>\n",
       "      <th>1</th>\n",
       "      <td>Flowers</td>\n",
       "      <td>Miley Cyrus</td>\n",
       "    </tr>\n",
       "    <tr>\n",
       "      <th>2</th>\n",
       "      <td>Fast Car</td>\n",
       "      <td>Luke Combs</td>\n",
       "    </tr>\n",
       "    <tr>\n",
       "      <th>3</th>\n",
       "      <td>Like Crazy (Deep House Remix)</td>\n",
       "      <td>Jimin</td>\n",
       "    </tr>\n",
       "    <tr>\n",
       "      <th>4</th>\n",
       "      <td>Like Crazy (UK Garage Remix)</td>\n",
       "      <td>Jimin</td>\n",
       "    </tr>\n",
       "    <tr>\n",
       "      <th>...</th>\n",
       "      <td>...</td>\n",
       "      <td>...</td>\n",
       "    </tr>\n",
       "    <tr>\n",
       "      <th>95</th>\n",
       "      <td>Going, Going, Gone</td>\n",
       "      <td>Luke Combs</td>\n",
       "    </tr>\n",
       "    <tr>\n",
       "      <th>96</th>\n",
       "      <td>NASTY</td>\n",
       "      <td>Russ</td>\n",
       "    </tr>\n",
       "    <tr>\n",
       "      <th>97</th>\n",
       "      <td>Just Pretend</td>\n",
       "      <td>Bad Omens</td>\n",
       "    </tr>\n",
       "    <tr>\n",
       "      <th>98</th>\n",
       "      <td>Calm Down</td>\n",
       "      <td>Rema</td>\n",
       "    </tr>\n",
       "    <tr>\n",
       "      <th>99</th>\n",
       "      <td>'Til You Can't</td>\n",
       "      <td>Cody Johnson</td>\n",
       "    </tr>\n",
       "  </tbody>\n",
       "</table>\n",
       "<p>100 rows × 2 columns</p>\n",
       "</div>"
      ],
      "text/plain": [
       "                             song         artist\n",
       "0                      Last Night  Morgan Wallen\n",
       "1                         Flowers    Miley Cyrus\n",
       "2                        Fast Car     Luke Combs\n",
       "3   Like Crazy (Deep House Remix)          Jimin\n",
       "4    Like Crazy (UK Garage Remix)          Jimin\n",
       "..                            ...            ...\n",
       "95             Going, Going, Gone     Luke Combs\n",
       "96                          NASTY           Russ\n",
       "97                   Just Pretend      Bad Omens\n",
       "98                      Calm Down           Rema\n",
       "99                 'Til You Can't   Cody Johnson\n",
       "\n",
       "[100 rows x 2 columns]"
      ]
     },
     "execution_count": 1,
     "metadata": {},
     "output_type": "execute_result"
    }
   ],
   "source": [
    "import pandas as pd\n",
    "data = pd.read_csv('songs_2023.csv')\n",
    "data"
   ]
  },
  {
   "cell_type": "code",
   "execution_count": 14,
   "id": "475ba049",
   "metadata": {},
   "outputs": [
    {
     "name": "stdout",
     "output_type": "stream",
     "text": [
      "please type a song name: Calm Down\n"
     ]
    }
   ],
   "source": [
    "song_name1 = input('please type a song name: ')"
   ]
  },
  {
   "cell_type": "code",
   "execution_count": 15,
   "id": "81cc4694",
   "metadata": {},
   "outputs": [
    {
     "name": "stdout",
     "output_type": "stream",
     "text": [
      "please type a artist name: Rema\n"
     ]
    }
   ],
   "source": [
    "artist1 = input('please type a artist name: ')"
   ]
  },
  {
   "cell_type": "code",
   "execution_count": 16,
   "id": "c33b8413",
   "metadata": {},
   "outputs": [
    {
     "name": "stdout",
     "output_type": "stream",
     "text": [
      "          song         artist\n",
      "90  Everywhere  Fleetwood Mac\n"
     ]
    }
   ],
   "source": [
    "#https://www.statology.org/pandas-check-if-column-contains-string/\n",
    "#https://www.geeksforgeeks.org/how-to-randomly-select-rows-from-pandas-dataframe/\n",
    "\n",
    "if (data['artist'].str.contains(artist1)).any() & (data['song'].str.contains(song_name1)).any():\n",
    "    print(data.sample())\n",
    "else:\n",
    "    print(\"can't find a recommended song\")\n"
   ]
  },
  {
   "cell_type": "code",
   "execution_count": null,
   "id": "6015a131",
   "metadata": {},
   "outputs": [],
   "source": []
  },
  {
   "cell_type": "code",
   "execution_count": null,
   "id": "03fe3699",
   "metadata": {},
   "outputs": [],
   "source": []
  },
  {
   "cell_type": "code",
   "execution_count": null,
   "id": "90821a87",
   "metadata": {},
   "outputs": [],
   "source": []
  },
  {
   "cell_type": "code",
   "execution_count": null,
   "id": "7993e2aa",
   "metadata": {},
   "outputs": [],
   "source": []
  }
 ],
 "metadata": {
  "kernelspec": {
   "display_name": "Python 3 (ipykernel)",
   "language": "python",
   "name": "python3"
  },
  "language_info": {
   "codemirror_mode": {
    "name": "ipython",
    "version": 3
   },
   "file_extension": ".py",
   "mimetype": "text/x-python",
   "name": "python",
   "nbconvert_exporter": "python",
   "pygments_lexer": "ipython3",
   "version": "3.9.12"
  }
 },
 "nbformat": 4,
 "nbformat_minor": 5
}
