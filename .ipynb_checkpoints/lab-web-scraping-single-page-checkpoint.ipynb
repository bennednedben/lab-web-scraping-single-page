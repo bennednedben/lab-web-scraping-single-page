{
 "cells": [
  {
   "cell_type": "code",
   "execution_count": 1,
   "id": "265a30a0",
   "metadata": {},
   "outputs": [],
   "source": [
    "from bs4 import BeautifulSoup\n",
    "import requests\n",
    "import pandas as pd"
   ]
  },
  {
   "cell_type": "code",
   "execution_count": 2,
   "id": "dab25d03",
   "metadata": {},
   "outputs": [],
   "source": [
    "# 2. find url and store it in a variable\n",
    "url = \"https://www.popvortex.com/music/charts/top-100-songs.php\""
   ]
  },
  {
   "cell_type": "code",
   "execution_count": 3,
   "id": "ce36b814",
   "metadata": {},
   "outputs": [
    {
     "data": {
      "text/plain": [
       "200"
      ]
     },
     "execution_count": 3,
     "metadata": {},
     "output_type": "execute_result"
    }
   ],
   "source": [
    "# 3. download html with a get request\n",
    "response = requests.get(url)\n",
    "response.status_code # 200 status code means OK!"
   ]
  },
  {
   "cell_type": "code",
   "execution_count": 4,
   "id": "113c0b26",
   "metadata": {},
   "outputs": [],
   "source": [
    "# 4.1. parse html (create the 'soup')\n",
    "soup = BeautifulSoup(response.content, \"html.parser\")"
   ]
  },
  {
   "cell_type": "code",
   "execution_count": 5,
   "id": "1c36fca1",
   "metadata": {},
   "outputs": [
    {
     "data": {
      "text/plain": [
       "'Last Night'"
      ]
     },
     "execution_count": 5,
     "metadata": {},
     "output_type": "execute_result"
    }
   ],
   "source": [
    "# song name\n",
    "soup.select(\"#chart-position-1 > div.chart-content.col-xs-12.col-sm-8 > p > cite\")\n",
    "soup.select(\"p > cite\") # all elements containing song titles\n",
    "soup.select(\"p > cite\")[0].get_text()"
   ]
  },
  {
   "cell_type": "code",
   "execution_count": 6,
   "id": "d31b6024",
   "metadata": {},
   "outputs": [
    {
     "data": {
      "text/plain": [
       "'Morgan Wallen'"
      ]
     },
     "execution_count": 6,
     "metadata": {},
     "output_type": "execute_result"
    }
   ],
   "source": [
    "# artist\n",
    "soup.select(\"#chart-position-1 > div.chart-content.col-xs-12.col-sm-8 > p > em\")\n",
    "soup.select(\"p > em\")\n",
    "soup.select(\"p > em\")[0].get_text()"
   ]
  },
  {
   "cell_type": "code",
   "execution_count": 7,
   "id": "6c911465",
   "metadata": {},
   "outputs": [
    {
     "data": {
      "text/plain": [
       "'Release Date: February 2, 2023'"
      ]
     },
     "execution_count": 7,
     "metadata": {},
     "output_type": "execute_result"
    }
   ],
   "source": [
    "# Release Date\n",
    "soup.select(\"#chart-position-1 > div.chart-content.col-xs-12.col-sm-8 > ul > li:nth-child(2)\")\n",
    "soup.select(\"div.chart-content.col-xs-12.col-sm-8 > ul > li:nth-child(2)\")\n",
    "soup.select(\"div.chart-content.col-xs-12.col-sm-8 > ul > li:nth-child(2)\")[0].get_text()"
   ]
  },
  {
   "cell_type": "code",
   "execution_count": 8,
   "id": "1b618050",
   "metadata": {},
   "outputs": [
    {
     "data": {
      "text/plain": [
       "'Country'"
      ]
     },
     "execution_count": 8,
     "metadata": {},
     "output_type": "execute_result"
    }
   ],
   "source": [
    "# genre\n",
    "soup.select(\"#chart-position-2 > div.chart-content.col-xs-12.col-sm-8 > ul > li:nth-child(1) > a\")\n",
    "soup.select(\"div.chart-content.col-xs-12.col-sm-8 > ul > li:nth-child(1) > a\") # all elements containing song titles\n",
    "soup.select(\"div.chart-content.col-xs-12.col-sm-8 > ul > li:nth-child(1) > a\")[0].get_text()"
   ]
  },
  {
   "cell_type": "code",
   "execution_count": 9,
   "id": "9c70866a",
   "metadata": {},
   "outputs": [
    {
     "ename": "IndexError",
     "evalue": "list index out of range",
     "output_type": "error",
     "traceback": [
      "\u001b[1;31m---------------------------------------------------------------------------\u001b[0m",
      "\u001b[1;31mIndexError\u001b[0m                                Traceback (most recent call last)",
      "Input \u001b[1;32mIn [9]\u001b[0m, in \u001b[0;36m<cell line: 13>\u001b[1;34m()\u001b[0m\n\u001b[0;32m     15\u001b[0m artist_list\u001b[38;5;241m.\u001b[39mappend(artist[i])\n\u001b[0;32m     16\u001b[0m release_date_list\u001b[38;5;241m.\u001b[39mappend(release_date[i])\n\u001b[1;32m---> 17\u001b[0m genre_list\u001b[38;5;241m.\u001b[39mappend(\u001b[43mgenre\u001b[49m\u001b[43m[\u001b[49m\u001b[43mi\u001b[49m\u001b[43m]\u001b[49m\u001b[38;5;241m.\u001b[39mget_text())\n",
      "\u001b[1;31mIndexError\u001b[0m: list index out of range"
     ]
    }
   ],
   "source": [
    "#initialize empty lists\n",
    "song_list = []\n",
    "artist_list = []\n",
    "release_date_list = []\n",
    "genre_list = []\n",
    "\n",
    "num_iter = len(soup.select(\"cite\"))\n",
    "\n",
    "song = soup.select(\"p > cite\")\n",
    "release_date = soup.select(\"div.chart-content.col-xs-12.col-sm-8 > ul > li:nth-child(2)\")\n",
    "artist = soup.select(\"p > em\")\n",
    "genre = soup.select(\"div.chart-content.col-xs-12.col-sm-8 > ul > li:nth-child(1) > a\")\n",
    "for i in range(num_iter):\n",
    "    song_list.append(song[i].get_text())\n",
    "    artist_list.append(artist[i])\n",
    "    release_date_list.append(release_date[i])\n",
    "    genre_list.append(genre[i].get_text())\n",
    "\n",
    "# print(song_list)\n",
    "# print(artist_list)\n",
    "# print(release_date_list)\n",
    "# print(genre_list)"
   ]
  },
  {
   "cell_type": "code",
   "execution_count": null,
   "id": "45f30eca",
   "metadata": {},
   "outputs": [],
   "source": [
    "# each list becomes a column\n",
    "songs = pd.DataFrame({\"song_list\":song,\n",
    "                       \"artist_list\":artist,\n",
    "                       \"release_date_list\":release_date,\n",
    "                       \"genre_list\":genre\n",
    "                      })"
   ]
  },
  {
   "cell_type": "code",
   "execution_count": null,
   "id": "6d20f3b2",
   "metadata": {},
   "outputs": [],
   "source": [
    "songs.head()"
   ]
  },
  {
   "cell_type": "code",
   "execution_count": null,
   "id": "a5636334",
   "metadata": {},
   "outputs": [],
   "source": []
  },
  {
   "cell_type": "code",
   "execution_count": null,
   "id": "06c96d3d",
   "metadata": {},
   "outputs": [],
   "source": []
  },
  {
   "cell_type": "code",
   "execution_count": null,
   "id": "8144f84a",
   "metadata": {},
   "outputs": [],
   "source": []
  },
  {
   "cell_type": "code",
   "execution_count": null,
   "id": "10957b8e",
   "metadata": {},
   "outputs": [],
   "source": []
  },
  {
   "cell_type": "code",
   "execution_count": null,
   "id": "475ba049",
   "metadata": {},
   "outputs": [],
   "source": []
  },
  {
   "cell_type": "code",
   "execution_count": null,
   "id": "81cc4694",
   "metadata": {},
   "outputs": [],
   "source": []
  },
  {
   "cell_type": "code",
   "execution_count": null,
   "id": "c33b8413",
   "metadata": {},
   "outputs": [],
   "source": []
  },
  {
   "cell_type": "code",
   "execution_count": null,
   "id": "6015a131",
   "metadata": {},
   "outputs": [],
   "source": []
  },
  {
   "cell_type": "code",
   "execution_count": null,
   "id": "03fe3699",
   "metadata": {},
   "outputs": [],
   "source": []
  },
  {
   "cell_type": "code",
   "execution_count": null,
   "id": "90821a87",
   "metadata": {},
   "outputs": [],
   "source": []
  },
  {
   "cell_type": "code",
   "execution_count": null,
   "id": "7993e2aa",
   "metadata": {},
   "outputs": [],
   "source": []
  }
 ],
 "metadata": {
  "kernelspec": {
   "display_name": "Python 3 (ipykernel)",
   "language": "python",
   "name": "python3"
  },
  "language_info": {
   "codemirror_mode": {
    "name": "ipython",
    "version": 3
   },
   "file_extension": ".py",
   "mimetype": "text/x-python",
   "name": "python",
   "nbconvert_exporter": "python",
   "pygments_lexer": "ipython3",
   "version": "3.9.12"
  }
 },
 "nbformat": 4,
 "nbformat_minor": 5
}
